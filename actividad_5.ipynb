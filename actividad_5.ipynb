{
 "cells": [
  {
   "cell_type": "code",
   "execution_count": 1,
   "metadata": {},
   "outputs": [
    {
     "name": "stdout",
     "output_type": "stream",
     "text": [
      "Collecting sqlalchemy\n",
      "  Downloading SQLAlchemy-2.0.30-cp311-cp311-win_amd64.whl (2.1 MB)\n",
      "     ---------------------------------------- 2.1/2.1 MB 4.3 MB/s eta 0:00:00\n",
      "Collecting mysqlclient\n",
      "  Downloading mysqlclient-2.2.4-cp311-cp311-win_amd64.whl (203 kB)\n",
      "     ------------------------------------- 203.2/203.2 kB 12.9 MB/s eta 0:00:00\n",
      "Requirement already satisfied: pandas in c:\\python311\\lib\\site-packages (2.2.2)\n",
      "Requirement already satisfied: typing-extensions>=4.6.0 in c:\\users\\user\\appdata\\roaming\\python\\python311\\site-packages (from sqlalchemy) (4.11.0)\n",
      "Collecting greenlet!=0.4.17\n",
      "  Downloading greenlet-3.0.3-cp311-cp311-win_amd64.whl (292 kB)\n",
      "     -------------------------------------- 292.8/292.8 kB 9.1 MB/s eta 0:00:00\n",
      "Requirement already satisfied: numpy>=1.23.2 in c:\\python311\\lib\\site-packages (from pandas) (1.26.4)\n",
      "Requirement already satisfied: python-dateutil>=2.8.2 in c:\\users\\user\\appdata\\roaming\\python\\python311\\site-packages (from pandas) (2.9.0.post0)\n",
      "Requirement already satisfied: pytz>=2020.1 in c:\\python311\\lib\\site-packages (from pandas) (2024.1)\n",
      "Requirement already satisfied: tzdata>=2022.7 in c:\\python311\\lib\\site-packages (from pandas) (2024.1)\n",
      "Requirement already satisfied: six>=1.5 in c:\\users\\user\\appdata\\roaming\\python\\python311\\site-packages (from python-dateutil>=2.8.2->pandas) (1.16.0)\n",
      "Installing collected packages: mysqlclient, greenlet, sqlalchemy\n",
      "Successfully installed greenlet-3.0.3 mysqlclient-2.2.4 sqlalchemy-2.0.30\n",
      "Note: you may need to restart the kernel to use updated packages.\n"
     ]
    },
    {
     "name": "stderr",
     "output_type": "stream",
     "text": [
      "\n",
      "[notice] A new release of pip available: 22.3.1 -> 24.0\n",
      "[notice] To update, run: python.exe -m pip install --upgrade pip\n"
     ]
    }
   ],
   "source": [
    "pip install sqlalchemy mysqlclient pandas"
   ]
  },
  {
   "cell_type": "code",
   "execution_count": 14,
   "metadata": {},
   "outputs": [
    {
     "name": "stderr",
     "output_type": "stream",
     "text": [
      "C:\\Users\\user\\AppData\\Local\\Temp\\ipykernel_12116\\3174049991.py:14: MovedIn20Warning: The ``declarative_base()`` function is now available as sqlalchemy.orm.declarative_base(). (deprecated since: 2.0) (Background on SQLAlchemy 2.0 at: https://sqlalche.me/e/b8d9)\n",
      "  Base = declarative_base()\n"
     ]
    }
   ],
   "source": [
    "from sqlalchemy import create_engine, Column, Integer, String, text\n",
    "from sqlalchemy.ext.declarative import declarative_base\n",
    "from sqlalchemy.orm import sessionmaker\n",
    "import pandas as pd\n",
    "\n",
    "# Crear la conexión a la base de datos\n",
    "user = 'root'\n",
    "password = 'Chowder1226'\n",
    "host = 'localhost'\n",
    "port = '3308'\n",
    "database = 'dataset'\n",
    "\n",
    "engine = create_engine(f'mysql+mysqldb://{user}:{password}@{host}:{port}/{database}')\n",
    "Base = declarative_base()\n",
    "\n",
    "# Definir la estructura de la tabla\n",
    "class Municipio(Base):\n",
    "    __tablename__ = 'municipios'\n",
    "    CodigoMunicipio = Column(Integer, primary_key=True)\n",
    "    NombreMunicipio = Column(String(100))\n",
    "    Edad = Column(Integer)\n",
    "    Hombres_Cabecera = Column(Integer)\n",
    "    Mujeres_Cabecera = Column(Integer)\n",
    "    Hombres_CentroPoblado = Column(Integer)\n",
    "    Mujeres_CentroPoblado = Column(Integer)\n",
    "    HombresRuralDisperso = Column(Integer)\n",
    "    MujeresRuralDisperso = Column(Integer)\n",
    "\n",
    "# Crear la tabla en la base de datos\n",
    "Base.metadata.create_all(engine)\n",
    "\n",
    "# Crear una sesión\n",
    "Session = sessionmaker(bind=engine)\n",
    "session = Session()\n"
   ]
  },
  {
   "cell_type": "code",
   "execution_count": 15,
   "metadata": {},
   "outputs": [],
   "source": [
    "import pandas as pd\n",
    "import matplotlib.pyplot as plt\n",
    "import seaborn as sns"
   ]
  },
  {
   "cell_type": "code",
   "execution_count": 16,
   "metadata": {},
   "outputs": [],
   "source": [
    "dataset = r\"D:\\Data-Science\\Poblaci_n_Antioquia_censada_2018_por_tipo_territorio__sexo_y_edades_simples_20240330.csv\""
   ]
  },
  {
   "cell_type": "code",
   "execution_count": 17,
   "metadata": {},
   "outputs": [
    {
     "data": {
      "text/plain": [
       "12825"
      ]
     },
     "execution_count": 17,
     "metadata": {},
     "output_type": "execute_result"
    }
   ],
   "source": [
    "# Leer el dataset\n",
    "datos = pd.read_csv(dataset, delimiter=';', encoding='latin1')\n",
    "\n",
    "# Subir los datos a la base de datos\n",
    "datos.to_sql('municipios', con=engine, if_exists='replace', index=False)"
   ]
  },
  {
   "cell_type": "code",
   "execution_count": 18,
   "metadata": {},
   "outputs": [
    {
     "name": "stdout",
     "output_type": "stream",
     "text": [
      "      CodigoMunicipio NombreMunicipio  Edad  Hombres_Cabecera  \\\n",
      "0                5001        Medellín    31             19406   \n",
      "1                5001        Medellín    32             18874   \n",
      "2                5001        Medellín    33             18628   \n",
      "3                5001        Medellín    34             17601   \n",
      "4                5001        Medellín    35             17940   \n",
      "...               ...             ...   ...               ...   \n",
      "8946             5895        Zaragoza    94                 0   \n",
      "8947             5895        Zaragoza    97                 1   \n",
      "8948             5895        Zaragoza    98                 1   \n",
      "8949             5895        Zaragoza   102                 0   \n",
      "8950             5895        Zaragoza   104                 0   \n",
      "\n",
      "      Mujeres_Cabecera  Hombres_CentroPoblado  Mujeres_CentroPoblado  \\\n",
      "0                19308                    153                    169   \n",
      "1                19525                    165                    156   \n",
      "2                19119                    158                    153   \n",
      "3                18207                    147                    152   \n",
      "4                18999                    168                    190   \n",
      "...                ...                    ...                    ...   \n",
      "8946                 3                      0                      0   \n",
      "8947                 0                      0                      0   \n",
      "8948                 0                      1                      0   \n",
      "8949                 0                      0                      0   \n",
      "8950                 0                      0                      0   \n",
      "\n",
      "      HombresRuralDisperso  MujeresRuralDisperso  \n",
      "0                      150                   137  \n",
      "1                      159                   140  \n",
      "2                      174                   131  \n",
      "3                      155                   137  \n",
      "4                      162                   143  \n",
      "...                    ...                   ...  \n",
      "8946                     1                     0  \n",
      "8947                     0                     0  \n",
      "8948                     0                     0  \n",
      "8949                     0                     1  \n",
      "8950                     1                     0  \n",
      "\n",
      "[8951 rows x 9 columns]\n"
     ]
    }
   ],
   "source": [
    "query = text(\"SELECT * FROM municipios WHERE Edad > 30\")\n",
    "with engine.connect() as conn:\n",
    "    result = conn.execute(query)\n",
    "    \n",
    "    \n",
    "    df_result = pd.DataFrame(result.fetchall(), columns=result.keys())\n",
    "    print(df_result)\n",
    "\n"
   ]
  },
  {
   "cell_type": "code",
   "execution_count": 19,
   "metadata": {},
   "outputs": [
    {
     "name": "stdout",
     "output_type": "stream",
     "text": [
      "    NombreMunicipio Total_Poblacion\n",
      "0         Abejorral           17599\n",
      "1          Abriaquí            2159\n",
      "2        Alejandría            3839\n",
      "3             Amagá           26821\n",
      "4            Amalfi           20265\n",
      "..              ...             ...\n",
      "120            Yalí            6234\n",
      "121         Yarumal           36337\n",
      "122         Yolombó           19010\n",
      "123           Yondó           17597\n",
      "124        Zaragoza           24067\n",
      "\n",
      "[125 rows x 2 columns]\n"
     ]
    }
   ],
   "source": [
    "query = text(\"\"\"\n",
    "SELECT NombreMunicipio, \n",
    "       SUM(Hombres_Cabecera + Mujeres_Cabecera + Hombres_CentroPoblado + Mujeres_CentroPoblado + HombresRuralDisperso + MujeresRuralDisperso) as Total_Poblacion\n",
    "FROM municipios\n",
    "GROUP BY NombreMunicipio\n",
    "\"\"\")\n",
    "with engine.connect() as conn:\n",
    "    result = conn.execute(query)\n",
    "\n",
    "    \n",
    "    df_result = pd.DataFrame(result.fetchall(), columns=result.keys())\n",
    "    print(df_result)"
   ]
  },
  {
   "cell_type": "code",
   "execution_count": 20,
   "metadata": {},
   "outputs": [
    {
     "name": "stdout",
     "output_type": "stream",
     "text": [
      "    NombreMunicipio Poblacion_Cabecera\n",
      "0         Abejorral               6957\n",
      "1          Abriaquí                708\n",
      "2        Alejandría               2215\n",
      "3             Amagá              13032\n",
      "4            Amalfi              11685\n",
      "..              ...                ...\n",
      "120            Yalí               3048\n",
      "121         Yarumal              26783\n",
      "122         Yolombó               6175\n",
      "123           Yondó               9515\n",
      "124        Zaragoza              11095\n",
      "\n",
      "[125 rows x 2 columns]\n"
     ]
    }
   ],
   "source": [
    "query = text(\"\"\"\n",
    "SELECT NombreMunicipio, \n",
    "       SUM(Hombres_Cabecera + Mujeres_Cabecera) as Poblacion_Cabecera\n",
    "FROM municipios\n",
    "GROUP BY NombreMunicipio\n",
    "\"\"\")\n",
    "with engine.connect() as conn:\n",
    "    result = conn.execute(query)\n",
    "\n",
    "    \n",
    "    df_result = pd.DataFrame(result.fetchall(), columns=result.keys())\n",
    "    print(df_result)\n"
   ]
  },
  {
   "cell_type": "code",
   "execution_count": 21,
   "metadata": {},
   "outputs": [
    {
     "name": "stdout",
     "output_type": "stream",
     "text": [
      "    NombreMunicipio Poblacion_CentroPoblado_Rural\n",
      "0         Abejorral                         10642\n",
      "1          Abriaquí                          1451\n",
      "2        Alejandría                          1624\n",
      "3             Amagá                         13789\n",
      "4            Amalfi                          8580\n",
      "..              ...                           ...\n",
      "120            Yalí                          3186\n",
      "121         Yarumal                          9554\n",
      "122         Yolombó                         12835\n",
      "123           Yondó                          8082\n",
      "124        Zaragoza                         12972\n",
      "\n",
      "[125 rows x 2 columns]\n"
     ]
    }
   ],
   "source": [
    "query = text(\"\"\"\n",
    "SELECT NombreMunicipio, \n",
    "       SUM(Hombres_CentroPoblado + Mujeres_CentroPoblado + HombresRuralDisperso + MujeresRuralDisperso) as Poblacion_CentroPoblado_Rural\n",
    "FROM municipios\n",
    "GROUP BY NombreMunicipio\n",
    "\"\"\")\n",
    "with engine.connect() as conn:\n",
    "    result = conn.execute(query)\n",
    "\n",
    "   \n",
    "    df_result = pd.DataFrame(result.fetchall(), columns=result.keys())\n",
    "    print(df_result)\n"
   ]
  },
  {
   "cell_type": "code",
   "execution_count": null,
   "metadata": {},
   "outputs": [],
   "source": []
  },
  {
   "cell_type": "code",
   "execution_count": null,
   "metadata": {},
   "outputs": [],
   "source": []
  },
  {
   "cell_type": "code",
   "execution_count": null,
   "metadata": {},
   "outputs": [],
   "source": []
  },
  {
   "cell_type": "code",
   "execution_count": null,
   "metadata": {},
   "outputs": [],
   "source": []
  },
  {
   "cell_type": "code",
   "execution_count": null,
   "metadata": {},
   "outputs": [],
   "source": []
  }
 ],
 "metadata": {
  "kernelspec": {
   "display_name": "Python 3",
   "language": "python",
   "name": "python3"
  },
  "language_info": {
   "codemirror_mode": {
    "name": "ipython",
    "version": 3
   },
   "file_extension": ".py",
   "mimetype": "text/x-python",
   "name": "python",
   "nbconvert_exporter": "python",
   "pygments_lexer": "ipython3",
   "version": "3.11.3"
  }
 },
 "nbformat": 4,
 "nbformat_minor": 2
}
