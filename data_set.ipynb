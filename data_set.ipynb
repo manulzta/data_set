{
 "cells": [
  {
   "cell_type": "code",
   "execution_count": null,
   "metadata": {},
   "outputs": [],
   "source": [
    "import pandas as pd"
   ]
  },
  {
   "cell_type": "code",
   "execution_count": null,
   "metadata": {},
   "outputs": [],
   "source": [
    "archivos = [\n",
    "    r\"D:\\Data-Science\\Caracterizaci_n_poblaci_n_atendida_Hospital_Manuel_Uribe_Angel_20240330.csv\",\n",
    "    r\"D:\\Data-Science\\COLEGIOS_PRIVADOS_Y_OFICIALES_20240329.csv\",\n",
    "    r\"D:\\Data-Science\\Poblaci_n_Antioquia_censada_2018_por_tipo_territorio__sexo_y_edades_simples_20240330.csv\"\n",
    "]"
   ]
  },
  {
   "cell_type": "code",
   "execution_count": null,
   "metadata": {},
   "outputs": [],
   "source": [
    "datasets = [pd.read_csv(file) for file in archivos]"
   ]
  },
  {
   "cell_type": "code",
   "execution_count": null,
   "metadata": {},
   "outputs": [],
   "source": [
    "# Descripción de variables potencialmente interesantes en cada dataset\n",
    "\n",
    "# Dataset 1: Caracterización población atendida Hospital Manuel Uribe Ángel\n",
    "print(\"Descripción del Dataset 1:\\n\"\n",
    "      \"SEXO: Podría ser relevante para analizar la distribución de género de la población atendida en el hospital.\\n\"\n",
    "      \"ESTADO_CIVIL: Puede ser útil para comprender las características familiares y sociales de los pacientes.\\n\"\n",
    "      \"ZONA_RES y MUN_RES: Permiten analizar la ubicación geográfica de los pacientes, lo cual podría ser importante para planificar servicios de salud y determinar necesidades específicas según la región.\\n\"\n",
    "      \"EDAD: Es una variable crucial para analizar la distribución de edades de los pacientes y su relación con enfermedades o condiciones de salud específicas.\\n\"\n",
    "      \"ESCOLARIDAD_PACIENTE: Proporciona información sobre el nivel educativo de los pacientes, lo cual puede ser relevante para comprender sus necesidades de salud y acceso a servicios.\\n\"\n",
    "      \"DISCAPACIDAD: Permite identificar pacientes con discapacidades y adaptar los servicios de salud según sus necesidades.\\n\"\n",
    "      \"FECHA DE LA CARACTERIZACIÓN: Puede ser útil para analizar tendencias a lo largo del tiempo en la población atendida y evaluar la efectividad de intervenciones o políticas de salud.\\n\"\n",
    "      \"GRUPO POBLACIONAL: Ayuda a categorizar a los pacientes en diferentes grupos demográficos o poblacionales para un análisis más detallado.\\n\"\n",
    "      \"DATOS DE LA ASEGURADORA (EAPB): Proporciona información sobre la aseguradora de salud de los pacientes, lo cual puede ser relevante para comprender el tipo de cobertura y acceso a servicios de salud.\"\n",
    ")\n",
    "print(datasets[0].describe())\n",
    "print(\"\\n\")\n",
    "\n",
    "# Dataset 2: Datos de colegios privados y oficiales\n",
    "print(\"Descripción del Dataset 2:\\n\"\n",
    "      \"año: Este campo indica el año al que pertenecen los datos. Es importante para contextualizar la información y comprender posibles cambios a lo largo del tiempo en el sistema educativo.\\n\"\n",
    "      \"nombreestablecimiento: Es el nombre del colegio. Es crucial para identificar cada institución educativa de manera única y realizar comparaciones entre ellas.\\n\"\n",
    "      \"direccion: Proporciona la dirección física del colegio. Es importante para la ubicación exacta de la institución y para fines logísticos.\\n\"\n",
    "      \"tipo_Establecimiento: Describe el tipo de establecimiento educativo, como público, privado, mixto, etc. Es relevante para comprender la diversidad del sistema educativo.\\n\"\n",
    "      \"genero: Indica si el colegio es exclusivamente para hombres, mujeres o mixto. Es importante para entender las opciones de educación disponibles para diferentes géneros.\\n\"\n",
    "      \"niveles: Describe los niveles educativos ofrecidos por el colegio, como primaria, secundaria, preescolar, etc. Es relevante para entender la oferta educativa de la institución.\\n\"\n",
    "      \"jornadas: Indica las jornadas de estudio ofrecidas por el colegio, como mañana, tarde, noche, etc. Es importante para adaptarse a las necesidades de los estudiantes y sus familias.\\n\"\n",
    "      \"caracter: Describe el carácter del colegio, como técnico, académico, religioso, etc. Es relevante para comprender la orientación educativa de la institución.\\n\"\n",
    "      \"grados: Describe los grados o cursos ofrecidos por el colegio. Es importante para comprender la estructura del plan de estudios.\\n\"\n",
    "      \"estado: Describe el estado actual del colegio, como activo, cerrado, etc. Es importante para evaluar la disponibilidad de la institución educativa.\"\n",
    ")\n",
    "print(datasets[1].describe())\n",
    "print(\"\\n\")\n",
    "\n",
    "# Dataset 3: Población censada en Antioquia por tipo de territorio, sexo y edades\n",
    "print(\"Descripción del Dataset 3:\\n\"\n",
    "      \"CodigoMunicipio: Este código identifica de manera única a cada municipio en el conjunto de datos. Es crucial para realizar análisis a nivel municipal y para realizar comparaciones entre diferentes áreas geográficas.\\n\"\n",
    "      \"NombreMunicipio: Proporciona el nombre del municipio al que pertenece cada registro de datos. Es importante para identificar claramente la ubicación geográfica de la población censada.\\n\"\n",
    "      \"Edad: Indica la edad de la población censada. Esta variable es esencial para comprender la estructura de edad de la población y realizar análisis demográficos detallados.\\n\"\n",
    "      \"Hombres_Cabecera: Representa el número de hombres censados en la cabecera municipal. Esta variable proporciona información sobre la distribución de género en las áreas urbanas principales de cada municipio.\\n\"\n",
    "      \"Mujeres_Cabecera: Indica el número de mujeres censadas en la cabecera municipal. Al igual que la variable anterior, es importante para comprender la distribución de género en las áreas urbanas principales.\\n\"\n",
    "      \"Hombres_CentroPoblado: Muestra el número de hombres censados en los centros poblados. Esta variable proporciona información sobre la distribución de género en áreas urbanas más pequeñas y centros de población fuera de la cabecera municipal.\\n\"\n",
    "      \"Mujeres_CentroPoblado: Indica el número de mujeres censadas en los centros poblados. Al igual que la variable anterior, es importante para comprender la distribución de género en áreas urbanas más pequeñas.\\n\"\n",
    "      \"HombresRuralDisperso: Representa el número de hombres censados en áreas rurales dispersas. Esta variable es relevante para comprender la distribución de género en áreas rurales y su relación con la actividad agrícola y otros factores socioeconómicos.\\n\"\n",
    "      \"MujeresRuralDisperso: Indica el número de mujeres censadas en áreas rurales dispersas. Al igual que la variable anterior, es importante para comprender la distribución de género en áreas rurales.\"\n",
    ")\n",
    "print(datasets[2].describe())\n",
    "print(\"\\n\")"
   ]
  }
 ],
 "metadata": {
  "language_info": {
   "name": "python"
  }
 },
 "nbformat": 4,
 "nbformat_minor": 2
}
