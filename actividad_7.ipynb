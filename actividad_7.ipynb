{
 "cells": [
  {
   "cell_type": "code",
   "execution_count": 1,
   "metadata": {},
   "outputs": [
    {
     "name": "stdout",
     "output_type": "stream",
     "text": [
      "Requirement already satisfied: pandas in c:\\python311\\lib\\site-packages (2.2.2)\n",
      "Requirement already satisfied: numpy>=1.23.2 in c:\\python311\\lib\\site-packages (from pandas) (1.26.4)\n",
      "Requirement already satisfied: python-dateutil>=2.8.2 in c:\\users\\user\\appdata\\roaming\\python\\python311\\site-packages (from pandas) (2.9.0.post0)\n",
      "Requirement already satisfied: pytz>=2020.1 in c:\\python311\\lib\\site-packages (from pandas) (2024.1)\n",
      "Requirement already satisfied: tzdata>=2022.7 in c:\\python311\\lib\\site-packages (from pandas) (2024.1)\n",
      "Requirement already satisfied: six>=1.5 in c:\\users\\user\\appdata\\roaming\\python\\python311\\site-packages (from python-dateutil>=2.8.2->pandas) (1.16.0)\n",
      "Note: you may need to restart the kernel to use updated packages.\n"
     ]
    },
    {
     "name": "stderr",
     "output_type": "stream",
     "text": [
      "\n",
      "[notice] A new release of pip available: 22.3.1 -> 24.0\n",
      "[notice] To update, run: python.exe -m pip install --upgrade pip\n"
     ]
    }
   ],
   "source": [
    "pip install pandas\n"
   ]
  },
  {
   "cell_type": "code",
   "execution_count": 4,
   "metadata": {},
   "outputs": [],
   "source": [
    "import pandas as pd"
   ]
  },
  {
   "cell_type": "code",
   "execution_count": 2,
   "metadata": {},
   "outputs": [],
   "source": [
    "dataset = r\"D:\\Data-Science\\Poblaci_n_Antioquia_censada_2018_por_tipo_territorio__sexo_y_edades_simples_20240330.csv\""
   ]
  },
  {
   "cell_type": "code",
   "execution_count": 5,
   "metadata": {},
   "outputs": [],
   "source": [
    "datos = pd.read_csv(dataset, delimiter=';', encoding='latin1')"
   ]
  },
  {
   "cell_type": "code",
   "execution_count": 6,
   "metadata": {},
   "outputs": [
    {
     "name": "stdout",
     "output_type": "stream",
     "text": [
      "Requirement already satisfied: numpy in c:\\python311\\lib\\site-packages (1.26.4)Note: you may need to restart the kernel to use updated packages.\n"
     ]
    },
    {
     "name": "stderr",
     "output_type": "stream",
     "text": [
      "\n",
      "[notice] A new release of pip available: 22.3.1 -> 24.0\n",
      "[notice] To update, run: python.exe -m pip install --upgrade pip\n"
     ]
    },
    {
     "name": "stdout",
     "output_type": "stream",
     "text": [
      "\n"
     ]
    }
   ],
   "source": [
    "pip install numpy"
   ]
  },
  {
   "cell_type": "code",
   "execution_count": 8,
   "metadata": {},
   "outputs": [
    {
     "name": "stdout",
     "output_type": "stream",
     "text": [
      "Collecting scikit-learn\n",
      "  Downloading scikit_learn-1.5.0-cp311-cp311-win_amd64.whl (11.0 MB)\n",
      "     ---------------------------------------- 11.0/11.0 MB 6.7 MB/s eta 0:00:00\n",
      "Requirement already satisfied: numpy>=1.19.5 in c:\\python311\\lib\\site-packages (from scikit-learn) (1.26.4)\n",
      "Collecting scipy>=1.6.0\n",
      "  Downloading scipy-1.13.1-cp311-cp311-win_amd64.whl (46.2 MB)\n",
      "     ---------------------------------------- 46.2/46.2 MB 6.6 MB/s eta 0:00:00\n",
      "Collecting joblib>=1.2.0\n",
      "  Downloading joblib-1.4.2-py3-none-any.whl (301 kB)\n",
      "     -------------------------------------- 301.8/301.8 kB 6.2 MB/s eta 0:00:00\n",
      "Collecting threadpoolctl>=3.1.0\n",
      "  Downloading threadpoolctl-3.5.0-py3-none-any.whl (18 kB)\n",
      "Installing collected packages: threadpoolctl, scipy, joblib, scikit-learn\n",
      "Successfully installed joblib-1.4.2 scikit-learn-1.5.0 scipy-1.13.1 threadpoolctl-3.5.0\n",
      "Note: you may need to restart the kernel to use updated packages.\n"
     ]
    },
    {
     "name": "stderr",
     "output_type": "stream",
     "text": [
      "\n",
      "[notice] A new release of pip available: 22.3.1 -> 24.0\n",
      "[notice] To update, run: python.exe -m pip install --upgrade pip\n"
     ]
    }
   ],
   "source": [
    "pip install scikit-learn\n"
   ]
  },
  {
   "cell_type": "code",
   "execution_count": 9,
   "metadata": {},
   "outputs": [
    {
     "name": "stdout",
     "output_type": "stream",
     "text": [
      "Requirement already satisfied: sqlalchemy in c:\\python311\\lib\\site-packages (2.0.30)\n",
      "Requirement already satisfied: typing-extensions>=4.6.0 in c:\\users\\user\\appdata\\roaming\\python\\python311\\site-packages (from sqlalchemy) (4.11.0)\n",
      "Requirement already satisfied: greenlet!=0.4.17 in c:\\python311\\lib\\site-packages (from sqlalchemy) (3.0.3)\n",
      "Note: you may need to restart the kernel to use updated packages.\n"
     ]
    },
    {
     "name": "stderr",
     "output_type": "stream",
     "text": [
      "\n",
      "[notice] A new release of pip available: 22.3.1 -> 24.0\n",
      "[notice] To update, run: python.exe -m pip install --upgrade pip\n"
     ]
    }
   ],
   "source": [
    "pip install sqlalchemy\n"
   ]
  },
  {
   "cell_type": "code",
   "execution_count": 10,
   "metadata": {},
   "outputs": [],
   "source": [
    "import numpy as np\n",
    "from sklearn.ensemble import IsolationForest\n",
    "from sqlalchemy import create_engine"
   ]
  },
  {
   "cell_type": "code",
   "execution_count": 11,
   "metadata": {},
   "outputs": [
    {
     "name": "stdout",
     "output_type": "stream",
     "text": [
      "Duplicados antes de la limpieza: 0\n"
     ]
    }
   ],
   "source": [
    "print(f\"Duplicados antes de la limpieza: {datos.duplicated().sum()}\")"
   ]
  },
  {
   "cell_type": "code",
   "execution_count": 12,
   "metadata": {},
   "outputs": [],
   "source": [
    "datos.drop_duplicates(inplace=True)"
   ]
  },
  {
   "cell_type": "code",
   "execution_count": 13,
   "metadata": {},
   "outputs": [
    {
     "name": "stdout",
     "output_type": "stream",
     "text": [
      "Duplicados después de la limpieza: 0\n"
     ]
    }
   ],
   "source": [
    "print(f\"Duplicados después de la limpieza: {datos.duplicated().sum()}\")"
   ]
  },
  {
   "cell_type": "code",
   "execution_count": 14,
   "metadata": {},
   "outputs": [
    {
     "name": "stdout",
     "output_type": "stream",
     "text": [
      "Valores nulos antes de la limpieza: CodigoMunicipio          0\n",
      "NombreMunicipio          0\n",
      "Edad                     0\n",
      "Hombres_Cabecera         0\n",
      "Mujeres_Cabecera         0\n",
      "Hombres_CentroPoblado    0\n",
      "Mujeres_CentroPoblado    0\n",
      "HombresRuralDisperso     0\n",
      "MujeresRuralDisperso     0\n",
      "dtype: int64\n"
     ]
    }
   ],
   "source": [
    "print(f\"Valores nulos antes de la limpieza: {datos.isnull().sum()}\")"
   ]
  },
  {
   "cell_type": "code",
   "execution_count": 16,
   "metadata": {},
   "outputs": [],
   "source": [
    "numeric_columns = datos.select_dtypes(include='number').columns"
   ]
  },
  {
   "cell_type": "code",
   "execution_count": 17,
   "metadata": {},
   "outputs": [],
   "source": [
    "datos[numeric_columns] = datos[numeric_columns].fillna(datos[numeric_columns].mean())"
   ]
  },
  {
   "cell_type": "code",
   "execution_count": 18,
   "metadata": {},
   "outputs": [
    {
     "name": "stdout",
     "output_type": "stream",
     "text": [
      "       CodigoMunicipio NombreMunicipio  Edad  Hombres_Cabecera  \\\n",
      "0                 5001        Medellín     0             11374   \n",
      "1                 5001        Medellín     1             12173   \n",
      "2                 5001        Medellín     2             12795   \n",
      "3                 5001        Medellín     3             12796   \n",
      "4                 5001        Medellín     4             12518   \n",
      "...                ...             ...   ...               ...   \n",
      "12820             5895        Zaragoza    94                 0   \n",
      "12821             5895        Zaragoza    97                 1   \n",
      "12822             5895        Zaragoza    98                 1   \n",
      "12823             5895        Zaragoza   102                 0   \n",
      "12824             5895        Zaragoza   104                 0   \n",
      "\n",
      "       Mujeres_Cabecera  Hombres_CentroPoblado  Mujeres_CentroPoblado  \\\n",
      "0                 10739                    131                    110   \n",
      "1                 11637                    126                    120   \n",
      "2                 12012                    137                    103   \n",
      "3                 12197                    120                    126   \n",
      "4                 11949                    103                    116   \n",
      "...                 ...                    ...                    ...   \n",
      "12820                 3                      0                      0   \n",
      "12821                 0                      0                      0   \n",
      "12822                 0                      1                      0   \n",
      "12823                 0                      0                      0   \n",
      "12824                 0                      0                      0   \n",
      "\n",
      "       HombresRuralDisperso  MujeresRuralDisperso  \n",
      "0                        85                    99  \n",
      "1                       109                   116  \n",
      "2                       108                   105  \n",
      "3                       119                   103  \n",
      "4                        82                   101  \n",
      "...                     ...                   ...  \n",
      "12820                     1                     0  \n",
      "12821                     0                     0  \n",
      "12822                     0                     0  \n",
      "12823                     0                     1  \n",
      "12824                     1                     0  \n",
      "\n",
      "[12825 rows x 9 columns]\n"
     ]
    }
   ],
   "source": [
    "print(datos)"
   ]
  },
  {
   "cell_type": "code",
   "execution_count": 19,
   "metadata": {},
   "outputs": [
    {
     "name": "stdout",
     "output_type": "stream",
     "text": [
      "Valores nulos después de la imputación: CodigoMunicipio          0\n",
      "NombreMunicipio          0\n",
      "Edad                     0\n",
      "Hombres_Cabecera         0\n",
      "Mujeres_Cabecera         0\n",
      "Hombres_CentroPoblado    0\n",
      "Mujeres_CentroPoblado    0\n",
      "HombresRuralDisperso     0\n",
      "MujeresRuralDisperso     0\n",
      "dtype: int64\n"
     ]
    }
   ],
   "source": [
    "print(f\"Valores nulos después de la imputación: {datos.isnull().sum()}\")"
   ]
  },
  {
   "cell_type": "code",
   "execution_count": 20,
   "metadata": {},
   "outputs": [],
   "source": [
    "def remove_outliers_iqr(df, columns):\n",
    "    Q1 = datos[columns].quantile(0.25)\n",
    "    Q3 = datos[columns].quantile(0.75)\n",
    "    IQR = Q3 - Q1\n",
    "    is_not_outlier = ~((datos[columns] < (Q1 - 1.5 * IQR)) | (datos[columns] > (Q3 + 1.5 * IQR))).any(axis=1)\n",
    "    return datos[is_not_outlier]"
   ]
  },
  {
   "cell_type": "code",
   "execution_count": 21,
   "metadata": {},
   "outputs": [],
   "source": [
    "columns_to_check = ['Edad', 'Hombres_Cabecera', 'Mujeres_Cabecera', 'Hombres_CentroPoblado', 'Mujeres_CentroPoblado', 'HombresRuralDisperso', 'MujeresRuralDisperso']"
   ]
  },
  {
   "cell_type": "code",
   "execution_count": null,
   "metadata": {},
   "outputs": [],
   "source": [
    "datos = remove_outliers_iqr(df, columns_to_check)"
   ]
  },
  {
   "cell_type": "code",
   "execution_count": 22,
   "metadata": {},
   "outputs": [],
   "source": [
    "iso_forest = IsolationForest(contamination=0.01)  \n",
    "outliers = iso_forest.fit_predict(datos[columns_to_check])\n",
    "datos = datos[outliers == 1]"
   ]
  },
  {
   "cell_type": "code",
   "execution_count": 24,
   "metadata": {},
   "outputs": [
    {
     "name": "stdout",
     "output_type": "stream",
     "text": [
      "Datos finales después de la limpieza: (12696, 9)\n"
     ]
    }
   ],
   "source": [
    "print(f\"Datos finales después de la limpieza: {datos.shape}\")"
   ]
  },
  {
   "cell_type": "code",
   "execution_count": null,
   "metadata": {},
   "outputs": [],
   "source": []
  }
 ],
 "metadata": {
  "kernelspec": {
   "display_name": "Python 3",
   "language": "python",
   "name": "python3"
  },
  "language_info": {
   "codemirror_mode": {
    "name": "ipython",
    "version": 3
   },
   "file_extension": ".py",
   "mimetype": "text/x-python",
   "name": "python",
   "nbconvert_exporter": "python",
   "pygments_lexer": "ipython3",
   "version": "3.11.3"
  }
 },
 "nbformat": 4,
 "nbformat_minor": 2
}
