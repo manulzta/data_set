{
 "cells": [
  {
   "cell_type": "code",
   "execution_count": 1,
   "metadata": {},
   "outputs": [
    {
     "name": "stdout",
     "output_type": "stream",
     "text": [
      "Collecting requests\n",
      "  Downloading requests-2.32.2-py3-none-any.whl (63 kB)\n",
      "     -------------------------------------- 63.9/63.9 kB 570.9 kB/s eta 0:00:00\n",
      "Requirement already satisfied: pandas in c:\\python311\\lib\\site-packages (2.2.2)\n",
      "Collecting charset-normalizer<4,>=2\n",
      "  Downloading charset_normalizer-3.3.2-cp311-cp311-win_amd64.whl (99 kB)\n",
      "     ---------------------------------------- 99.9/99.9 kB 2.9 MB/s eta 0:00:00\n",
      "Collecting idna<4,>=2.5\n",
      "  Downloading idna-3.7-py3-none-any.whl (66 kB)\n",
      "     ---------------------------------------- 66.8/66.8 kB 3.8 MB/s eta 0:00:00\n",
      "Collecting urllib3<3,>=1.21.1\n",
      "  Downloading urllib3-2.2.1-py3-none-any.whl (121 kB)\n",
      "     -------------------------------------- 121.1/121.1 kB 6.9 MB/s eta 0:00:00\n",
      "Collecting certifi>=2017.4.17\n",
      "  Downloading certifi-2024.2.2-py3-none-any.whl (163 kB)\n",
      "     -------------------------------------- 163.8/163.8 kB 9.6 MB/s eta 0:00:00\n",
      "Requirement already satisfied: numpy>=1.23.2 in c:\\python311\\lib\\site-packages (from pandas) (1.26.4)\n",
      "Requirement already satisfied: python-dateutil>=2.8.2 in c:\\users\\user\\appdata\\roaming\\python\\python311\\site-packages (from pandas) (2.9.0.post0)\n",
      "Requirement already satisfied: pytz>=2020.1 in c:\\python311\\lib\\site-packages (from pandas) (2024.1)\n",
      "Requirement already satisfied: tzdata>=2022.7 in c:\\python311\\lib\\site-packages (from pandas) (2024.1)\n",
      "Requirement already satisfied: six>=1.5 in c:\\users\\user\\appdata\\roaming\\python\\python311\\site-packages (from python-dateutil>=2.8.2->pandas) (1.16.0)\n",
      "Installing collected packages: urllib3, idna, charset-normalizer, certifi, requests\n",
      "Note: you may need to restart the kernel to use updated packages.\n"
     ]
    },
    {
     "name": "stderr",
     "output_type": "stream",
     "text": [
      "  WARNING: Failed to write executable - trying to use .deleteme logic\n",
      "ERROR: Could not install packages due to an OSError: [WinError 2] El sistema no puede encontrar el archivo especificado: 'c:\\\\Python311\\\\Scripts\\\\normalizer.exe' -> 'c:\\\\Python311\\\\Scripts\\\\normalizer.exe.deleteme'\n",
      "\n",
      "\n",
      "[notice] A new release of pip available: 22.3.1 -> 24.0\n",
      "[notice] To update, run: python.exe -m pip install --upgrade pip\n"
     ]
    }
   ],
   "source": [
    "pip install requests pandas"
   ]
  },
  {
   "cell_type": "code",
   "execution_count": 3,
   "metadata": {},
   "outputs": [
    {
     "name": "stdout",
     "output_type": "stream",
     "text": [
      "Collecting requests\n",
      "  Using cached requests-2.32.2-py3-none-any.whl (63 kB)\n",
      "Requirement already satisfied: charset-normalizer<4,>=2 in c:\\python311\\lib\\site-packages (from requests) (3.3.2)\n",
      "Requirement already satisfied: idna<4,>=2.5 in c:\\python311\\lib\\site-packages (from requests) (3.7)\n",
      "Requirement already satisfied: urllib3<3,>=1.21.1 in c:\\python311\\lib\\site-packages (from requests) (2.2.1)\n",
      "Collecting certifi>=2017.4.17\n",
      "  Using cached certifi-2024.2.2-py3-none-any.whl (163 kB)\n",
      "Installing collected packages: certifi, requests\n",
      "Successfully installed certifi-2024.2.2 requests-2.32.2\n",
      "Note: you may need to restart the kernel to use updated packages.\n"
     ]
    },
    {
     "name": "stderr",
     "output_type": "stream",
     "text": [
      "\n",
      "[notice] A new release of pip available: 22.3.1 -> 24.0\n",
      "[notice] To update, run: python.exe -m pip install --upgrade pip\n"
     ]
    }
   ],
   "source": [
    "pip install requests"
   ]
  },
  {
   "cell_type": "code",
   "execution_count": 4,
   "metadata": {},
   "outputs": [],
   "source": [
    "import requests\n",
    "import pandas as pd"
   ]
  },
  {
   "cell_type": "code",
   "execution_count": 5,
   "metadata": {},
   "outputs": [],
   "source": [
    "dataset = r\"D:\\Data-Science\\Poblaci_n_Antioquia_censada_2018_por_tipo_territorio__sexo_y_edades_simples_20240330.csv\""
   ]
  },
  {
   "cell_type": "code",
   "execution_count": 6,
   "metadata": {},
   "outputs": [],
   "source": [
    "datos = pd.read_csv(dataset, delimiter=';', encoding='latin1')"
   ]
  },
  {
   "cell_type": "code",
   "execution_count": 7,
   "metadata": {},
   "outputs": [],
   "source": [
    "api_url = \"https://www.datos.gov.co/resource/vfi6-fe9z.json\""
   ]
  },
  {
   "cell_type": "code",
   "execution_count": 9,
   "metadata": {},
   "outputs": [
    {
     "name": "stdout",
     "output_type": "stream",
     "text": [
      "  fecha_instalacion  estado    codigo                          nombre  \\\n",
      "0        2016-11-15  Activa  52057100      RUMICHACA - AUT [52057100]   \n",
      "1        2005-12-10  Activa  52055170    LA JOSEFINA - AUT [52055170]   \n",
      "2        2004-03-01  Activa  52055220     EL PARAISO - AUT [52055220]   \n",
      "3        2005-11-11  Activa  44015070      EL PEPINO - AUT [44015070]   \n",
      "4        2005-07-19  Activa  48015040  PUERTO NARINO - AUT [48015040]   \n",
      "\n",
      "  departamento            categoria altitud  \\\n",
      "0       Nariño         Limnigráfica    2582   \n",
      "1       Nariño  Climática Principal    2450   \n",
      "2       Nariño  Climática Principal    3120   \n",
      "3     Putumayo  Climática Principal     760   \n",
      "4     Amazonas  Climática Principal     158   \n",
      "\n",
      "                                           ubicaci_n corriente      municipio  \\\n",
      "0  {'latitude': '0.81378611', 'needs_recoding': F...  Guaitara        Ipiales   \n",
      "1  {'latitude': '0.93030556', 'needs_recoding': F...  Guaitara      Contadero   \n",
      "2  {'latitude': '1.07061111', 'needs_recoding': F...  Guaitara      Túquerres   \n",
      "3  {'latitude': '1.08288889', 'needs_recoding': F...  Guaitara          Mocoa   \n",
      "4  {'latitude': '-3.78030556', 'needs_recoding': ...  Amazonas  Puerto Nariño   \n",
      "\n",
      "  fecha_suspension  \n",
      "0              NaN  \n",
      "1              NaN  \n",
      "2              NaN  \n",
      "3              NaN  \n",
      "4              NaN  \n",
      "<class 'pandas.core.frame.DataFrame'>\n",
      "RangeIndex: 1000 entries, 0 to 999\n",
      "Data columns (total 11 columns):\n",
      " #   Column             Non-Null Count  Dtype \n",
      "---  ------             --------------  ----- \n",
      " 0   fecha_instalacion  998 non-null    object\n",
      " 1   estado             1000 non-null   object\n",
      " 2   codigo             1000 non-null   object\n",
      " 3   nombre             1000 non-null   object\n",
      " 4   departamento       1000 non-null   object\n",
      " 5   categoria          1000 non-null   object\n",
      " 6   altitud            1000 non-null   object\n",
      " 7   ubicaci_n          1000 non-null   object\n",
      " 8   corriente          1000 non-null   object\n",
      " 9   municipio          1000 non-null   object\n",
      " 10  fecha_suspension   348 non-null    object\n",
      "dtypes: object(11)\n",
      "memory usage: 86.1+ KB\n",
      "None\n",
      "   CodigoMunicipio NombreMunicipio  Edad  Hombres_Cabecera  Mujeres_Cabecera  \\\n",
      "0             5001        Medellín     0             11374             10739   \n",
      "1             5001        Medellín     0             11374             10739   \n",
      "2             5001        Medellín     0             11374             10739   \n",
      "3             5001        Medellín     0             11374             10739   \n",
      "4             5001        Medellín     0             11374             10739   \n",
      "\n",
      "   Hombres_CentroPoblado  Mujeres_CentroPoblado  HombresRuralDisperso  \\\n",
      "0                    131                    110                    85   \n",
      "1                    131                    110                    85   \n",
      "2                    131                    110                    85   \n",
      "3                    131                    110                    85   \n",
      "4                    131                    110                    85   \n",
      "\n",
      "   MujeresRuralDisperso fecha_instalacion      estado    codigo  \\\n",
      "0                    99        2005-09-08  Suspendida  27015300   \n",
      "1                    99        2005-11-17  Suspendida  27015290   \n",
      "2                    99        1970-08-15      Activa  27010810   \n",
      "3                    99        2015-12-03      Activa  27015502   \n",
      "4                    99        1990-10-15      Activa  27011110   \n",
      "\n",
      "                               nombre departamento               categoria  \\\n",
      "0  VILLANUEVA VILLAHERMOSA [27015300]    Antioquia     Climática Principal   \n",
      "1           PAJARITO - AUT [27015290]    Antioquia     Climática Principal   \n",
      "2             SANTA HELENA [27010810]    Antioquia     Climática Ordinaria   \n",
      "3       SOLMAFORO MEDELLIN [27015502]    Antioquia  Meteorológica Especial   \n",
      "4               ASTILLEROS [27011110]    Antioquia           Pluviométrica   \n",
      "\n",
      "  altitud                                          ubicaci_n corriente  \\\n",
      "0    1591  {'latitude': '6.25327778', 'needs_recoding': F...    Carare   \n",
      "1    1952  {'latitude': '6.28633333', 'needs_recoding': F...      Nare   \n",
      "2    2550  {'latitude': '6.19688889', 'needs_recoding': F...         0   \n",
      "3    1494  {'latitude': '6.24513056', 'needs_recoding': F...  Casanare   \n",
      "4    2450  {'latitude': '6.25730556', 'needs_recoding': F...  San Lope   \n",
      "\n",
      "  municipio fecha_suspension  \n",
      "0  Medellín       2016-01-06  \n",
      "1  Medellín       2016-01-06  \n",
      "2  Medellín              NaN  \n",
      "3  Medellín              NaN  \n",
      "4  Medellín              NaN  \n",
      "<class 'pandas.core.frame.DataFrame'>\n",
      "RangeIndex: 23274 entries, 0 to 23273\n",
      "Data columns (total 20 columns):\n",
      " #   Column                 Non-Null Count  Dtype \n",
      "---  ------                 --------------  ----- \n",
      " 0   CodigoMunicipio        23274 non-null  int64 \n",
      " 1   NombreMunicipio        23274 non-null  object\n",
      " 2   Edad                   23274 non-null  int64 \n",
      " 3   Hombres_Cabecera       23274 non-null  int64 \n",
      " 4   Mujeres_Cabecera       23274 non-null  int64 \n",
      " 5   Hombres_CentroPoblado  23274 non-null  int64 \n",
      " 6   Mujeres_CentroPoblado  23274 non-null  int64 \n",
      " 7   HombresRuralDisperso   23274 non-null  int64 \n",
      " 8   MujeresRuralDisperso   23274 non-null  int64 \n",
      " 9   fecha_instalacion      15520 non-null  object\n",
      " 10  estado                 15520 non-null  object\n",
      " 11  codigo                 15520 non-null  object\n",
      " 12  nombre                 15520 non-null  object\n",
      " 13  departamento           15520 non-null  object\n",
      " 14  categoria              15520 non-null  object\n",
      " 15  altitud                15520 non-null  object\n",
      " 16  ubicaci_n              15520 non-null  object\n",
      " 17  corriente              15520 non-null  object\n",
      " 18  municipio              15520 non-null  object\n",
      " 19  fecha_suspension       6686 non-null   object\n",
      "dtypes: int64(8), object(12)\n",
      "memory usage: 3.6+ MB\n",
      "None\n"
     ]
    }
   ],
   "source": [
    "# Realizar la solicitud GET a la API\n",
    "response = requests.get(api_url)\n",
    "\n",
    "# Verificar el estado de la respuesta\n",
    "if response.status_code == 200:\n",
    "    # Convertir la respuesta a JSON\n",
    "    api_data = response.json()\n",
    "    \n",
    "    # Convertir los datos de la API a un DataFrame de Pandas\n",
    "    df_api = pd.DataFrame(api_data)\n",
    "    \n",
    "    # Exploración simple del DataFrame de la API\n",
    "    print(df_api.head())\n",
    "    print(df_api.info())\n",
    "    \n",
    "    combined_df = pd.merge(datos, df_api, left_on='NombreMunicipio', right_on='municipio', how='left')\n",
    "    \n",
    "    print(combined_df.head())\n",
    "    print(combined_df.info())\n",
    "else:\n",
    "    print(f\"Error en la solicitud a la API: {response.status_code}\")"
   ]
  },
  {
   "cell_type": "code",
   "execution_count": null,
   "metadata": {},
   "outputs": [],
   "source": []
  },
  {
   "cell_type": "code",
   "execution_count": null,
   "metadata": {},
   "outputs": [],
   "source": []
  },
  {
   "cell_type": "code",
   "execution_count": null,
   "metadata": {},
   "outputs": [],
   "source": []
  },
  {
   "cell_type": "code",
   "execution_count": null,
   "metadata": {},
   "outputs": [],
   "source": []
  }
 ],
 "metadata": {
  "kernelspec": {
   "display_name": "Python 3",
   "language": "python",
   "name": "python3"
  },
  "language_info": {
   "codemirror_mode": {
    "name": "ipython",
    "version": 3
   },
   "file_extension": ".py",
   "mimetype": "text/x-python",
   "name": "python",
   "nbconvert_exporter": "python",
   "pygments_lexer": "ipython3",
   "version": "3.11.3"
  }
 },
 "nbformat": 4,
 "nbformat_minor": 2
}
